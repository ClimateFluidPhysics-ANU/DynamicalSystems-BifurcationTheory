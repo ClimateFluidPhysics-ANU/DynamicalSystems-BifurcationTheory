{
 "cells": [
  {
   "cell_type": "markdown",
   "metadata": {},
   "source": [
    "Example use PyDSTool\n",
    "Install: pip3 install PyDSTool"
   ]
  },
  {
   "cell_type": "code",
   "execution_count": 1,
   "metadata": {},
   "outputs": [],
   "source": [
    "import PyDSTool as dst\n",
    "from PyDSTool import args\n",
    "import numpy as np\n",
    "from matplotlib import pyplot as plt"
   ]
  },
  {
   "cell_type": "code",
   "execution_count": 8,
   "metadata": {},
   "outputs": [],
   "source": [
    "# we must give a name\n",
    "DSargs = dst.args(name='ENSO')\n",
    "# parameters\n",
    "DSargs.pars = { 'a': 6.8927,\n",
    "                'c': 2.3952,\n",
    "                'k': 0.4032,\n",
    "                'rho': 0.3224,\n",
    "                'delta': 0.1\n",
    "                 }\n",
    "# rhs of the differential equation\n",
    "xstr = 'rho*delta*x*(x-a)+x*(x+y+c-c*tanh(x+z))'\n",
    "ystr = '-rho*delta*(a*y + x*x)'\n",
    "zstr = 'delta*(k - z - x/2)'\n",
    "DSargs.varspecs = {'x': xstr, 'y': ystr, 'z': zstr}\n",
    "# initial conditions\n",
    "DSargs.ics      = {'x': -2, 'y': -0.5, 'z': 1.52}"
   ]
  },
  {
   "cell_type": "code",
   "execution_count": 9,
   "metadata": {},
   "outputs": [
    {
     "name": "stdout",
     "output_type": "stream",
     "text": [
      "[-2.         -2.15267364 -2.33981042 ... -2.77461334 -2.77461335\n",
      " -2.77461335]\n",
      "[-0.5        -0.50272927 -0.50774382 ... -1.11690218 -1.1169022\n",
      " -1.11690223]\n",
      "[1.52       1.51920372 1.51926164 ... 1.79050533 1.79050534 1.79050535]\n"
     ]
    },
    {
     "data": {
      "image/png": "[encoded data removed]",
      "text/plain": [
       "<Figure size 432x288 with 1 Axes>"
      ]
     },
     "metadata": {},
     "output_type": "display_data"
    }
   ],
   "source": [
    "DSargs.tdomain = [0,100]                        # set the range of integration.\n",
    "ode  = dst.Generator.Vode_ODEsystem(DSargs)     # an instance of the 'Generator' class.\n",
    "traj = ode.compute('polarization')              # integrate ODE\n",
    "pts  = traj.sample(dt=0.1)                      # Data for plotting\n",
    "\n",
    "# PyPlot commands\n",
    "plt.plot(pts['t'], pts['x'])\n",
    "print(pts['x'])\n",
    "print(pts['y'])\n",
    "print(pts['z'])\n",
    "plt.xlabel('t')                                 \n",
    "plt.ylabel('x')                                 \n",
    "plt.ylim([-5,0])                                \n",
    "plt.title(ode.name)                             \n",
    "plt.show()"
   ]
  },
  {
   "cell_type": "code",
   "execution_count": 10,
   "metadata": {},
   "outputs": [
    {
     "name": "stdout",
     "output_type": "stream",
     "text": [
      "Test function going crazy:  class Hopf_Bor(BorderMethod, BiAltMethod) \n",
      "\n",
      "H Point found \n",
      "Test function going crazy:  class Hopf_Bor(BorderMethod, BiAltMethod) \n",
      "\n",
      "H Point found \n",
      "Test function going crazy:  class Hopf_Bor(BorderMethod, BiAltMethod) \n",
      "\n"
     ]
    },
    {
     "name": "stderr",
     "output_type": "stream",
     "text": [
      "/Users/dijkstra1_henk/anaconda3/lib/python3.6/site-packages/matplotlib/cbook/deprecation.py:107: MatplotlibDeprecationWarning: Using pyplot.axes(ax) with ax an Axes argument is deprecated. Please use pyplot.sca(ax) instead.\n",
      "  warnings.warn(message, mplDeprecation, stacklevel=1)\n"
     ]
    },
    {
     "data": {
      "text/plain": [
       "Text(0.5,1,'Bifurcation diagram ENSO')"
      ]
     },
     "execution_count": 10,
     "metadata": {},
     "output_type": "execute_result"
    },
    {
     "data": {
      "image/png": "[encoded data removed]",
      "text/plain": [
       "<Figure size 432x288 with 1 Axes>"
      ]
     },
     "metadata": {},
     "output_type": "display_data"
    }
   ],
   "source": [
    "# Prepare the system to start close to a steady state\n",
    "ode.set(pars = {'delta': 0.1} )       # Lower bound of the control parameter \n",
    "ode.set(ics =  {'x':-2.77461335, 'y': -1.11690223, 'z': 1.79050535} )  # Close to one of the steady states present for this parameter\n",
    "\n",
    "PC = dst.ContClass(ode)         # Set up continuation class\n",
    "\n",
    "PCargs = dst.args(name='EQ1', type='EP-C')    # 'EP-C' stands for Equilibrium Point Curve. The branch will be labeled 'EQ1'.\n",
    "PCargs.freepars     = ['delta']               # control parameter(s) (it should be among those specified in DSargs.pars)\n",
    "PCargs.MaxNumPoints = 200                     # The following 3 parameters are set after trial-and-error\n",
    "PCargs.MaxStepSize  = 0.01\n",
    "PCargs.MinStepSize  = 1e-5\n",
    "PCargs.StepSize     = 2e-2\n",
    "PCargs.LocBifPoints = 'H'                     # detect Hopf bifurcations\n",
    "PCargs.SaveEigen    = True                    # to tell unstable from stable branches\n",
    "PC.newCurve(PCargs)\n",
    "PC['EQ1'].forward()\n",
    "PC.display(['delta','x'], stability=True, figure=3)  # stable and unstable branches as solid and dashed curves, resp.\n",
    "plt.xlim(0,1.0)\n",
    "plt.ylim(-5,5)\n",
    "plt.title(\"Bifurcation diagram ENSO\")"
   ]
  },
  {
   "cell_type": "code",
   "execution_count": null,
   "metadata": {},
   "outputs": [],
   "source": []
  }
 ],
 "metadata": {
  "kernelspec": {
   "display_name": "Python 3",
   "language": "python",
   "name": "python3"
  },
  "language_info": {
   "codemirror_mode": {
    "name": "ipython",
    "version": 3
   },
   "file_extension": ".py",
   "mimetype": "text/x-python",
   "name": "python",
   "nbconvert_exporter": "python",
   "pygments_lexer": "ipython3",
   "version": "3.6.5"
  }
 },
 "nbformat": 4,
 "nbformat_minor": 2
}
