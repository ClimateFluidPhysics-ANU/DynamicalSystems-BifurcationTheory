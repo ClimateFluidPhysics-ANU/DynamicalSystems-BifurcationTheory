{
 "cells": [
  {
   "cell_type": "markdown",
   "metadata": {
    "slideshow": {
     "slide_type": "slide"
    }
   },
   "source": [
    "# Basics of Dynamics Systems and Bifurcation Theory\n",
    "# Workshop \\#2, 23 Jan. 2020\n",
    "\n",
    "#### Navid C. Constantinou, RSES, ANU, 2020"
   ]
  },
  {
   "cell_type": "markdown",
   "metadata": {
    "slideshow": {
     "slide_type": "slide"
    }
   },
   "source": [
    "#### Exercise X\n",
    "\n",
    "Plot the phase portraits for the following systems as parameter $\\alpha$ varies:\n",
    "\n",
    "*(i)* $\\dot{x} = \\alpha x - x^2$, $\\dot{y} = - y$.\n",
    "\n",
    "*(ii)* $\\dot{x} = \\alpha x + x^3$, $\\dot{y} = - y$."
   ]
  },
  {
   "cell_type": "markdown",
   "metadata": {
    "slideshow": {
     "slide_type": "slide"
    }
   },
   "source": [
    "#### Exercise X\n",
    "\n",
    "Use numerical integration to plot phase portraits for the system:\n",
    "\n",
    "\\begin{align}\n",
    " \\dot{x} &= -y + \\mu x + x y^2,\\\\\n",
    " \\dot{y} &=  x + \\mu y - x^2.\n",
    "\\end{align}\n",
    "\n",
    "Show that as parameter $\\mu$ varies, the system undergoes a Hopf bifurcations at $\\mu_c=0$. Classify the type of Hopf bifurcation that occurs."
   ]
  },
  {
   "cell_type": "markdown",
   "metadata": {
    "slideshow": {
     "slide_type": "slide"
    }
   },
   "source": [
    "#### Exercise X\n",
    "\n",
    "Take the system: $\\dot{x}=y-2x$, $\\dot{y} = \\mu + x^2 - y$.\n",
    "\n",
    "*(i)* Scetch the nullclines.\n",
    "\n",
    "*(ii)* Find the birfurcations that occur as $\\mu$ varies and classify them.\n",
    "\n",
    "*(iii)* Sketch the phase portrait as a function of $\\mu$.\n"
   ]
  },
  {
   "cell_type": "markdown",
   "metadata": {
    "slideshow": {
     "slide_type": "slide"
    }
   },
   "source": [
    "#### Exercise X\n",
    "\n",
    "Take the biased Van der Poll oscillator: $\\ddot{x} + \\mu (x^2-1)\\dot{x} + x = \\alpha$.\n",
    "\n",
    "*(i)* Find the curves in $(\\mu, \\alpha)$-space at which Hopf bifurcations occur.\n",
    "\n",
    "*(ii)* Take values for $\\mu$ and $\\alpha$ slightly above and below the Hopf-bifurcation curves and integrate the system numerically. Do you see the structurally different behaviour on either side of the $(\\mu, \\alpha)$ curves?"
   ]
  },
  {
   "cell_type": "markdown",
   "metadata": {
    "slideshow": {
     "slide_type": "slide"
    }
   },
   "source": [
    "#### Exercise X\n",
    "\n",
    "Consider the dynamical system\n",
    "$$\n",
    "\\dot{x} = -\\frac{\\mathrm{d}V}{\\mathrm{d}x},\n",
    "$$\n",
    "where $V(x) = \\tfrac1{6}x^6 + \\tfrac1{4}\\gamma x^4 - \\tfrac1{2}\\varepsilon x^2 + h x$. This system describes a phase change.\n",
    "\n",
    "*(i)* Take $h=\\varepsilon=0$ and compute the bifurcation diagram as a function of parameter $\\gamma$.\n",
    "\n",
    "*(ii)* Now take $h=0$ but $\\varepsilon=\\varepsilon_f$. Again, draw the bifurcation diagrams as functions of $\\gamma$. Consider separately the case $\\varepsilon_f>0$ and $\\varepsilon_f<0$.\n",
    "\n",
    "*(iii)* Repeat question *(ii)*. with $h\\ne 0$."
   ]
  },
  {
   "cell_type": "markdown",
   "metadata": {
    "slideshow": {
     "slide_type": "slide"
    }
   },
   "source": [
    "#### Exercise X (continue)\n",
    "\n",
    "*(iv)* In experiments, parameter $\\varepsilon$ was switched from a negative value at $t=0$ to some positive value $\\varepsilon_f>0$. The figure shows various trajectories $x(t)$ for different final values of $\\varepsilon_f$. Explain intuitively why the curves have this strange shape. Why for large values of $\\varepsilon_f$ we observe that the trajectories go almost straight up to their steady state, whereas for small $\\varepsilon_f$ the trajectories plateau first before increasing sharply to their final level?\n",
    "\n",
    "<centering><img src=\"assets/fig1.png\" width=50%></centering>\n",
    "\n",
    "[and finally some food for thought]\n",
    "\n",
    "*(v)* Ponder on how would you go along repeating this exercise *without* using phase-space and bifurcation diagrams but rather from getting a closed-form solution of the dynamical system. \n",
    "\n"
   ]
  },
  {
   "cell_type": "markdown",
   "metadata": {
    "slideshow": {
     "slide_type": "slide"
    }
   },
   "source": [
    "### References\n",
    "\n",
    "You can read about stability in general dynamical system in many textbooks. My favorite is:\n",
    "\n",
    "- Strogatz, S. H. Nonlinear dynamics and chaos: with applications to physics, biology, chemistry, and engineering. CRC Press, 2018."
   ]
  }
 ],
 "metadata": {
  "celltoolbar": "Slideshow",
  "kernelspec": {
   "display_name": "Python 3",
   "language": "python",
   "name": "python3"
  },
  "language_info": {
   "codemirror_mode": {
    "name": "ipython",
    "version": 3
   },
   "file_extension": ".py",
   "mimetype": "text/x-python",
   "name": "python",
   "nbconvert_exporter": "python",
   "pygments_lexer": "ipython3",
   "version": "3.7.6"
  }
 },
 "nbformat": 4,
 "nbformat_minor": 4
}
