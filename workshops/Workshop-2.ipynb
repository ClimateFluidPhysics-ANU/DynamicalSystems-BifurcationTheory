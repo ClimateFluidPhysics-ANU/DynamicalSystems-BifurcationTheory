{
 "cells": [
  {
   "cell_type": "markdown",
   "metadata": {
    "slideshow": {
     "slide_type": "slide"
    }
   },
   "source": [
    "# Basics of Dynamics Systems and Bifurcation Theory\n",
    "# Workshop \\#2, 30 Jan. 2020\n",
    "\n",
    "#### Navid C. Constantinou, RSES, ANU, 2020"
   ]
  },
  {
   "cell_type": "markdown",
   "metadata": {
    "slideshow": {
     "slide_type": "slide"
    }
   },
   "source": [
    "#### Exercise 1: Damped harmonic oscillator\n",
    "\n",
    "The damped harmonic oscillator\n",
    "\\begin{gather*}\n",
    " \\ddot{x} + 2\\gamma\\dot{x} + \\omega^2 x = 0,\\\\\n",
    " x(t_0) = x_0, \\dot{x}(t_0)=\\upsilon_0,\n",
    "\\end{gather*}\n",
    "where $\\gamma>0$ is the damping coefficient.\n",
    "\n",
    "*(i)* Rewrite this system as a first-order system of ODEs.\n",
    "\n",
    "The energy of a harmonic oscillator is the sum of its kinetic energy $\\tfrac1{2}\\dot{x}^2$ and the potential energy $\\tfrac1{2}\\omega^2 x^2$: $E(t) =  \\tfrac1{2}\\dot{x}^2 + \\tfrac1{2}\\omega^2 x^2$.\n",
    "\n",
    "*(ii)*  Show that energy is conserved along trajectories if $\\gamma=0$ and that it monotonically decreases for $\\gamma>0$.\n",
    "\n",
    "*(iii)*  How do the trajectories look in phase-space for $\\gamma=0$? (Answer without actually solving the system nor integrating it numerically). How is the value of $E(t=t_0)$ related to the trajectories?\n",
    "\n",
    "*(iv)*  How do the trajectories look like for $\\gamma>0$?"
   ]
  },
  {
   "cell_type": "markdown",
   "metadata": {
    "slideshow": {
     "slide_type": "slide"
    }
   },
   "source": [
    "#### Exercise 2: Policy for fishing cod\n",
    "\n",
    "The logistic equation is a simple model that describes the evolution of population of a species\n",
    "\n",
    "\\begin{align}\n",
    "\\dot{N} = r N \\big(1-\\frac{N}{K}\\big) ,\n",
    "\\end{align}\n",
    "\n",
    "where $N(t)$ is the population and $r, K>0$. Equation (1) is called *the logistic equation*.\n",
    "\n",
    "Here we will use it to study the evolution of cod population in the North Atlantic."
   ]
  },
  {
   "cell_type": "markdown",
   "metadata": {
    "slideshow": {
     "slide_type": "slide"
    }
   },
   "source": [
    "#### Exercise 1: Policy for fishing cod (continued)\n",
    "\n",
    "You can view the logistic equation as a \"linear\" exponential equation (of the form  $\\dot{x}=\\alpha x$) but in which the exponential growth rate depends nonlinearly on the population: $\\alpha \\mapsto r(1-N(t)/K)$. The constant $K$ is called *carrying capacity*. If $N>K$, the exponential growth rate becomes negative: cods start dying because, e.g., the population is so big that not everybody can find food.\n",
    "\n",
    "\n",
    "- Let's nondimensionalize the above. Define $x=N/K$. Can you also define a nondimensional time $t\\mapsto f(t)$ so that the equation becomes\n",
    "\n",
    "\\begin{align}\n",
    "\\dot{x} = x (1-x).\n",
    "\\end{align}\n",
    "\n",
    "- Fixed points and stability of the above?"
   ]
  },
  {
   "cell_type": "markdown",
   "metadata": {
    "slideshow": {
     "slide_type": "slide"
    }
   },
   "source": [
    "#### Exercise 2: Policy for fishing cod (continued)\n",
    "\n",
    "- Canadians and Norwegians have been harvesting the North Atlantic for centuries. A simple model for fishery is\n",
    "\n",
    "\\begin{align*}\n",
    "\\dot{x} = x (1-x) - h,\n",
    "\\end{align*}\n",
    "\n",
    "where $h>0$ is the rate by which cod is fished. For the sake of simplicity, let's assume that $h$ is constant (although we know that to a very good approximation $h$ is probably an increasing function with time...). \n",
    "\n",
    "In the early 90s the population of cod was dramatically reduced. In 1992 Canada imposed a moratorium banning fishing of cod."
   ]
  },
  {
   "cell_type": "markdown",
   "metadata": {
    "slideshow": {
     "slide_type": "slide"
    }
   },
   "source": [
    "#### Exercise 2: Policy for fishing cod (continued)\n",
    "\n",
    "- We are in year 1991 and a committe of MPs from the Canadian parliament comes to ask for your scientific opinion. They are extremely worried and they want to pass a bill to try to save the cod. Based on the dynamical law above how much fishing would you reckon that is allowed to be happening? (How do the fixed points and their stability character changes with $h$?) Would you suggest to the MPs to regulate fishing just below the critical value you have predicted?\n",
    "\n",
    "- As a sensible (and sensitive) scientist you are concerned whether the values you suggested are relevant to the real world given the simplicity of your model. You decide to improve your model by adding time-dependence on the fishing rate. You know that there is a yearly fishing season so you device the time-dependent fishing model:\n",
    "\n",
    "\\begin{align}\n",
    "\\dot{x} = x (1-x) - h[ 1+\\epsilon\\sin(2\\pi t) \n",
    "].\n",
    "\\end{align}\n",
    "\n",
    "We want to investigate whether our results change qualitatively when we include time-dependence. "
   ]
  },
  {
   "cell_type": "markdown",
   "metadata": {
    "slideshow": {
     "slide_type": "slide"
    }
   },
   "source": [
    "#### Exercise 2: Policy for fishing cod (continued)\n",
    "\n",
    "\n",
    "For $\\epsilon=0$ we have two fixed points: $0\\le x_1^e\\le x_2^e$. \n",
    "\n",
    "- Take $\\epsilon=1$ and $h=0.1$. What happens if you start wtih initial population $<x_1^e$? What about when you start with initial population $>x_1^e$? Is the solution attracted to some fixed point?\n",
    "\n",
    "- What happens as you increase the fishing rate $h$? Is there still now (with the seasonality in fishing) a critical value of fishing rate at which all cod goes extinct?\n",
    "\n",
    "- Our dynamical law is periodic with period $T=1$. Compute the Poincaré map $\\mathcal{P}$ which maps all initial conditions $x_0$ to their evolved state after one period. Determine potential periodic orbits a solutions of $x = \\mathcal{P}(x)$. Why those points correspond to periodic orbits? What can we say about their stability? How different they are from the case of constant fishing without seasonality, $\\epsilon=0$?"
   ]
  },
  {
   "cell_type": "markdown",
   "metadata": {
    "slideshow": {
     "slide_type": "slide"
    }
   },
   "source": [
    "#### Exercise 3: Van der Poll oscillator\n",
    "\n",
    "The Van der Poll oscillator is \n",
    "\\begin{gather*}\n",
    " \\ddot{x} + \\mu(x^2-1)\\dot{x} + \\omega^2 x = 0,\\\\\n",
    " x(t_0) = x_0, \\dot{x}(t_0)=\\upsilon_0,\n",
    "\\end{gather*}\n",
    "with parametre $\\mu>0$.\n",
    "\n",
    "Van der Poll is similar to the simple harmonic oscillator but with a nonlinear damping coefficient: $\\tfrac1{2}\\mu(x^2-1)$ instead of the usual $\\gamma$. This damping coefficient depends on the position $x(t)$: for $|x|>1$ this is like normal damping, but for $|x|<1$ this term is *anti-damping*.\n",
    "\n",
    "Let's try to build some intuition on how this system behaves **without** actually solving it.\n",
    "\n",
    "(i) First, study the stability character of the fixed point at the origin. Draw the phase portrait near the origin.\n",
    "\n",
    "(ii) For large |x| the equation should behave similarly to a simple harmonic oscillator. That is we expect that the amplitude of the oscillations will decrease. Show that when $|x|\\gg1$ the energy:\n",
    "\n",
    "$$\n",
    "  E = \\tfrac1{2}(\\dot{x}^2+\\omega^2x^2)\n",
    "$$\n",
    "\n",
    "decreases monotonically with time."
   ]
  },
  {
   "cell_type": "markdown",
   "metadata": {
    "slideshow": {
     "slide_type": "slide"
    }
   },
   "source": [
    "#### Exercise 3: Van der Poll oscillator (continued)\n",
    "\n",
    "(iii) Combine (i) and (ii) and deduce that the system must have a attractor. What do you expect: is it a fixed point or a limit cycle? *Why*?\n",
    "\n",
    "(iv) Based on the equations and your established intuition, place a bet on where this attractor should be in phase space.\n",
    "\n",
    "(v) It's time to put the computer to do some work. Without loss of generality we can take $\\omega=1$ (why?). Now, let's try to discover the attractor via numerical integrations. Take $\\mu=0.05$ and integrate the system for various initial conditions. Any better guess now for question *(iv)*?\n",
    "\n",
    "(vi) How does the attractor change as you increase $\\mu$? Use values $\\mu=0.1, 0.5, 1, 2, 5, 10$.\n",
    "\n",
    "\n",
    "(iv) (optional - bit difficult) For the case of $\\mu\\ll1$ can you find a the attractor? I'm sure you can have a good guess up to now, but can you prove that there is a periodic solutions of the form you expect?\n",
    "\n",
    "\n"
   ]
  },
  {
   "cell_type": "markdown",
   "metadata": {
    "slideshow": {
     "slide_type": "skip"
    }
   },
   "source": [
    "#### Exercise 4\n",
    "\n",
    "Plot the phase portraits of the following linear dynamical systems:\n",
    "\n",
    "*(i)* $\\dot{x}=y$, $\\dot{y}=-2x-3y$,\n",
    "\n",
    "*(ii)* $\\dot{x}=3x-4y$, $\\dot{y}=x-y$,\n",
    "\n",
    "*(iii)* $\\dot{x}=5x+2y$, $\\dot{y}=-17x-5y$,\n",
    "\n",
    "*(iv)* $\\dot{x}=4x-3y$, $\\dot{y}=8x-6y$,\n",
    "\n",
    "*(v)* $\\dot{x}=5x+10y$, $\\dot{y}=-x-y$,\n",
    "\n",
    "*(vi)* $\\dot{x}=-3x+2y$, $\\dot{y}=x-2y$,\n",
    "\n",
    "*(vii)* $\\dot{x}=-3x+4y$, $\\dot{y}=-2x+3y$,\n",
    "\n",
    "*(viii)* $\\dot{x}=y$, $\\dot{y}=-x-2y$."
   ]
  },
  {
   "cell_type": "markdown",
   "metadata": {
    "slideshow": {
     "slide_type": "slide"
    }
   },
   "source": [
    "### References\n",
    "\n",
    "- Strogatz, S. H. Nonlinear dynamics and chaos: with applications to physics, biology, chemistry, and engineering. CRC Press, 2018."
   ]
  }
 ],
 "metadata": {
  "celltoolbar": "Slideshow",
  "kernelspec": {
   "display_name": "Python 3",
   "language": "python",
   "name": "python3"
  },
  "language_info": {
   "codemirror_mode": {
    "name": "ipython",
    "version": 3
   },
   "file_extension": ".py",
   "mimetype": "text/x-python",
   "name": "python",
   "nbconvert_exporter": "python",
   "pygments_lexer": "ipython3",
   "version": "3.7.6"
  }
 },
 "nbformat": 4,
 "nbformat_minor": 4
}
