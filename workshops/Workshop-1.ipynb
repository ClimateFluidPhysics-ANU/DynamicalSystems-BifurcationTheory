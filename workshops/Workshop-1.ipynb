{
 "cells": [
  {
   "cell_type": "markdown",
   "metadata": {
    "slideshow": {
     "slide_type": "slide"
    }
   },
   "source": [
    "# Basics of Dynamics Systems and Bifurcation Theory\n",
    "# Workshop \\#1, 21 Jan. 2020\n",
    "\n",
    "#### Navid C. Constantinou, RSES, ANU, 2020"
   ]
  },
  {
   "cell_type": "markdown",
   "metadata": {
    "slideshow": {
     "slide_type": "slide"
    }
   },
   "source": [
    "## Dynamical Systems\n",
    "\n",
    "A dynamical system can be expressed in the form\n",
    "\n",
    "$$\n",
    " \\frac{\\mathrm{d}}{\\mathrm{d}t} \\phi(t)= \\mathcal{F}\\big(\\phi(t)\\,,\\, t\\big). \\tag{1}\n",
    "$$\n",
    "\n",
    "Above, $\\phi(t)$ includes all variables needed to describe the state of the system. (Hereafter, dots above variables denote time-differentiation.)\n",
    "\n",
    "---\n",
    "\n",
    "#### Example: the pendulum\n",
    "\n",
    "For a pendulum that evolves freely in three dimensions, $\\phi$ includes the position and the velocity of its free end. In this case, $\\phi$ has six components:\n",
    "$$\n",
    "  \\phi = [x(t), y(t), z(t), \\dot{x}(t), \\dot{y}(t), \\dot{z}(t)].\n",
    "$$\n",
    "\n",
    "---\n",
    "\n",
    "If $\\mathcal{F}$ in Eq. (1) *does not* depend explicitly on time $t$ we say that the dynamical system is **autonomous**. Otherwise, the dynamical system is **non-autonomous**.\n",
    "\n",
    "Given equation (1) and the state of the system at some instance $t=t_0$, e.g., $\\phi(t_0)=\\phi_0$, we can predict the state of the system $\\phi(t)$ for all times $t$. "
   ]
  },
  {
   "cell_type": "markdown",
   "metadata": {
    "slideshow": {
     "slide_type": "slide"
    }
   },
   "source": [
    "## All dynamical systems are of “first order” \n",
    "\n",
    "\n",
    "Any $n$-th order differential equation can be rewritten as a system of $n$ differential equations all being **first order**. In that sense, *all* dynamical systems are first-order in time (but of course their dimensionality may vary).\n",
    "\n",
    "\n",
    "#### Exercise 1\n",
    "\n",
    "Show that any **non-autonomous** system of $n$ differential equations corresponds to an **autonomous** system of $n+1$ differential equations.\n",
    "\n",
    "*Hint*: You can start by an example: Show that the forced 1D harmonic oscillator\n",
    "\n",
    "$$\n",
    "  \\ddot{x} + 2\\gamma\\dot{x}+\\omega^2 x = f_0\\cos(2\\pi t),\n",
    "$$\n",
    "\n",
    "can be rewritten as a system of 3 equations that **do not** depend explicitly on time. Then generalise this to what the exercise wants.\n",
    "\n",
    "Hint: You may need to change/introduce a new variable."
   ]
  },
  {
   "cell_type": "markdown",
   "metadata": {
    "slideshow": {
     "slide_type": "slide"
    }
   },
   "source": [
    "#### Exercise 2 (optional)\n",
    "\n",
    "Show that any **nonlinear dynamical system** can be rewritten as a **linear** dynamical system of higher dimensionality.\n",
    "\n",
    "Take as an example the system:\n",
    "$$\n",
    "\\dot{x} = -x^2.\n",
    "$$\n",
    "\n",
    "How big is the dimension of the equivalent linear system for the example above?\n",
    "\n",
    "Food for thought: If any nonlinear system can be transformed into a linear one then what's the point of distinguish between *linear* and *nonlinear* dynamical systems?"
   ]
  },
  {
   "cell_type": "markdown",
   "metadata": {
    "slideshow": {
     "slide_type": "slide"
    }
   },
   "source": [
    "## Approximating the solution of a Dynamical System \n",
    "\n",
    "In most cases finding analytical solutions in closed form for a dynamical system is hard or impossible. That is, we want a method for constructing approximations of the solution for:\n",
    "\n",
    "\\begin{align}\n",
    " \\dot{\\phi}(t) &= \\mathcal{F}\\big(\\phi(t)\\,,\\, t\\big),\\tag{2a}\\\\\n",
    " \\phi(t_0) & =\\phi_0. \\tag{2b}\n",
    "\\end{align}\n",
    "\n",
    "Think of the solution $\\phi(t)$ we want to approximate and use a Taylor expansion about $t=t_0$:\n",
    "\n",
    "\\begin{align}\n",
    "  \\phi(t) &= \\phi(t_0) + (t-t_0)\\dot{\\phi}\\big|_{t=t_0} + \\tfrac1{2!}(t-t_0)^2\\ddot{\\phi}\\big|_{t=t_0} + \\dots \\\\\n",
    "          &= \\phi(t_0) + (t-t_0) \\mathcal{F}(\\phi_0,t_0) + \\tfrac1{2!}(t-t_0)^2 \\frac{\\mathrm{d}\\mathcal{F}}{\\mathrm{d}t}\\big|_{t=t_0} + \\dots \\tag{3}\\\\\n",
    "\\end{align}\n",
    "\n",
    "If $t$ is close to $t_0$ then we can neglect terms of order $(t-t_0)^2$ and higher. This gives the so-called Euler approximation."
   ]
  },
  {
   "cell_type": "markdown",
   "metadata": {
    "slideshow": {
     "slide_type": "slide"
    }
   },
   "source": [
    "## Forward Euler Time-Stepping Scheme \n",
    "\n",
    "Assume a time-discretization with time-step $\\delta$, i.e.,\n",
    "\n",
    "$$\n",
    " t_n = t_0 + n\\,\\delta,\\ n=0,1,\\dots. \\tag{4}\n",
    "$$\n",
    "\n",
    "Let's denote the values of the approximations of $\\phi(t)$ at times above as $\\phi_n \\equiv \\phi(t_0+n\\delta)$. The Forward Euler approximation is then\n",
    "\n",
    "$$\n",
    "  \\phi_{n+1} = \\phi_n + \\delta\\,\\mathcal{F}\\big(\\phi_n, t_n\\big). \\tag{5}\n",
    "$$\n"
   ]
  },
  {
   "cell_type": "markdown",
   "metadata": {
    "slideshow": {
     "slide_type": "slide"
    }
   },
   "source": [
    "## Error associated with Forward Euler \n",
    "\n",
    "In Forward-Euler time-step we ignore all terms of $\\mathcal{O}(\\delta^2)$."
   ]
  },
  {
   "cell_type": "markdown",
   "metadata": {
    "slideshow": {
     "slide_type": "slide"
    }
   },
   "source": [
    "## Runge-Kutta 4th order \n",
    "\n",
    "$$\n",
    "  \\phi_{n+1} = \\phi_n + \\dfrac{\\delta}{6}\\big(k_1 + 2k_2 + 2k_3 + k4\\big), \\tag{5}\n",
    "$$\n",
    "where\n",
    "\\begin{align}\n",
    "  k_1 & = \\mathcal{F}\\big(\\phi_n\\,,\\, t_n\\big), \\\\\n",
    "  k_2 & = \\mathcal{F}\\big(\\phi_n + \\tfrac1{2} k_1 \\delta \\,,\\, t_n + \\tfrac1{2}\\delta\\big), \\\\\n",
    "  k_3 & = \\mathcal{F}\\big(\\phi_n + \\tfrac1{2} k_2 \\delta \\,,\\, t_n + \\tfrac1{2}\\delta\\big), \\\\\n",
    "  k_4 & = \\mathcal{F}\\big(\\phi_n + k_3 \\delta \\,,\\, t_n + \\delta\\big), \\\\\n",
    "\\end{align}\n",
    "\n"
   ]
  },
  {
   "cell_type": "code",
   "execution_count": null,
   "metadata": {},
   "outputs": [],
   "source": []
  }
 ],
 "metadata": {
  "celltoolbar": "Slideshow",
  "kernelspec": {
   "display_name": "Python 3",
   "language": "python",
   "name": "python3"
  },
  "language_info": {
   "codemirror_mode": {
    "name": "ipython",
    "version": 3
   },
   "file_extension": ".py",
   "mimetype": "text/x-python",
   "name": "python",
   "nbconvert_exporter": "python",
   "pygments_lexer": "ipython3",
   "version": "3.7.6"
  }
 },
 "nbformat": 4,
 "nbformat_minor": 4
}
